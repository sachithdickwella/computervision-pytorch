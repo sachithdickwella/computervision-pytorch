{
 "cells": [
  {
   "cell_type": "code",
   "execution_count": null,
   "metadata": {
    "collapsed": true
   },
   "outputs": [],
   "source": [
    "import torch\n",
    "import torch.nn as nn\n",
    "\n",
    "import numpy as np\n",
    "import matplotlib.pyplot as plt\n",
    "import time\n",
    "\n",
    "from torch.utils.data import DataLoader\n",
    "from torchvision import datasets as ds, transforms as tf\n",
    "from torchvision.utils import make_grid\n",
    "\n",
    "from collections import OrderedDict"
   ]
  },
  {
   "cell_type": "code",
   "execution_count": null,
   "outputs": [],
   "source": [
    "data_root = 'C:/Datasets/Places365/train'\n",
    "worker = 0\n",
    "batch_size = 20\n",
    "image_size = (256, 256)\n",
    "nc = 3\n",
    "nz = 3\n",
    "ngf = 64\n",
    "ndf = 64\n",
    "lr = 2e-4\n",
    "beta1 = 5e-1\n",
    "ngpu = 1\n",
    "weight_decay = 50"
   ],
   "metadata": {
    "collapsed": false,
    "pycharm": {
     "name": "#%%\n"
    }
   }
  },
  {
   "cell_type": "code",
   "execution_count": null,
   "outputs": [],
   "source": [
    "is_cuda = torch.cuda.is_available()\n",
    "device = torch.device('cuda:0' if is_cuda else 'cpu')\n",
    "device"
   ],
   "metadata": {
    "collapsed": false,
    "pycharm": {
     "name": "#%%\n"
    }
   }
  },
  {
   "cell_type": "code",
   "execution_count": null,
   "outputs": [],
   "source": [
    "tf_main = tf.Compose([\n",
    "    tf.Resize(image_size[0]),\n",
    "    tf.CenterCrop(image_size[0]),\n",
    "    tf.ToTensor()\n",
    "])"
   ],
   "metadata": {
    "collapsed": false,
    "pycharm": {
     "name": "#%%\n"
    }
   }
  },
  {
   "cell_type": "code",
   "execution_count": null,
   "outputs": [],
   "source": [
    "dataset = ds.ImageFolder(root=data_root, transform=tf_main)\n",
    "dataloader = DataLoader(dataset, batch_size=batch_size, shuffle=False, num_workers=worker, pin_memory=is_cuda)"
   ],
   "metadata": {
    "collapsed": false,
    "pycharm": {
     "name": "#%%\n"
    }
   }
  },
  {
   "cell_type": "code",
   "execution_count": null,
   "outputs": [],
   "source": [
    "grid = next(iter(dataloader))\n",
    "\n",
    "im = make_grid(grid, nrow=10, normalize=True)\n",
    "\n",
    "plt.figure(figsize=(15, 14))\n",
    "plt.imshow(np.transpose(im, axes=(1, 2, 0)))\n",
    "plt.axis('off')\n",
    "plt.title('256 x 256 Image Sample')\n"
   ],
   "metadata": {
    "collapsed": false,
    "pycharm": {
     "name": "#%%\n"
    }
   }
  }
 ],
 "metadata": {
  "kernelspec": {
   "display_name": "Python 3",
   "language": "python",
   "name": "python3"
  },
  "language_info": {
   "codemirror_mode": {
    "name": "ipython",
    "version": 2
   },
   "file_extension": ".py",
   "mimetype": "text/x-python",
   "name": "python",
   "nbconvert_exporter": "python",
   "pygments_lexer": "ipython2",
   "version": "2.7.6"
  }
 },
 "nbformat": 4,
 "nbformat_minor": 0
}