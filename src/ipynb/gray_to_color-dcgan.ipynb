{
  "nbformat": 4,
  "nbformat_minor": 0,
  "metadata": {
    "language_info": {
      "codemirror_mode": {
        "name": "ipython",
        "version": 3
      },
      "file_extension": ".py",
      "mimetype": "text/x-python",
      "name": "python",
      "nbconvert_exporter": "python",
      "pygments_lexer": "ipython3",
      "version": "3.8.2-final"
    },
    "orig_nbformat": 2,
    "kernelspec": {
      "name": "pycharm-d6fa7573",
      "language": "python",
      "display_name": "PyCharm (computervision-pytorch)"
    },
    "colab": {
      "name": "gray_to_color-dcgan.ipynb",
      "provenance": []
    },
    "accelerator": "GPU"
  },
  "cells": [
    {
      "cell_type": "code",
      "metadata": {
        "id": "9V9eEvwlMQZN",
        "colab_type": "code",
        "colab": {}
      },
      "source": [
        "import torch\n",
        "import torch.nn as nn\n",
        "import torch.nn.functional as F\n",
        "import torch.backends.cudnn as cudnn\n",
        "\n",
        "import time\n",
        "import os\n",
        "import numpy as np\n",
        "import matplotlib.pyplot as plt\n",
        "import matplotlib.animation as anim\n",
        "import cv2\n",
        "\n",
        "from torch.utils.data import DataLoader, Dataset\n",
        "from torchvision import transforms as T\n",
        "from torchvision.utils import make_grid\n",
        "from IPython.display import HTML\n"
      ],
      "execution_count": 1,
      "outputs": []
    },
    {
      "cell_type": "code",
      "metadata": {
        "tags": [],
        "id": "fsOqlrYAMQZv",
        "colab_type": "code",
        "colab": {
          "base_uri": "https://localhost:8080/",
          "height": 34
        },
        "outputId": "61f5bd52-f5b8-4203-c797-546d6209813e"
      },
      "source": [
        "MANUAL_SEED = 42\n",
        "\n",
        "torch.manual_seed(MANUAL_SEED)\n",
        "print(f'Random Seed: {MANUAL_SEED}')"
      ],
      "execution_count": 2,
      "outputs": [
        {
          "output_type": "stream",
          "text": [
            "Random Seed: 42\n"
          ],
          "name": "stdout"
        }
      ]
    },
    {
      "cell_type": "code",
      "metadata": {
        "id": "x5c9_XNZMQZ1",
        "colab_type": "code",
        "colab": {}
      },
      "source": [
        "data_color_root = 'C:/Datasets/Celeba/sample'\n",
        "data_grayscale_root = 'C:/Datasets/Celeba/grayscale'\n",
        "workers = 0 \n",
        "batch_size = 10\n",
        "image_size = 512\n",
        "crop = 256\n",
        "nc = 3\n",
        "ngf = 64            # Number of features depth propagate through the generator,\n",
        "ndf = 64            # Number of features depth propagate through the discriminator.\n",
        "num_epochs = 10\n",
        "lr = 2e-4\n",
        "beta1 = 0.5         # beta1 hyperparameter for Adam optimizer.\n",
        "ngpu = 1            # Number of GPUs."
      ],
      "execution_count": 3,
      "outputs": []
    },
    {
      "cell_type": "code",
      "metadata": {
        "id": "LOqNRcEvMQZ5",
        "colab_type": "code",
        "colab": {
          "base_uri": "https://localhost:8080/",
          "height": 34
        },
        "outputId": "4e3fe63c-7213-4f85-8c3e-8a4ac33e5910"
      },
      "source": [
        "is_cuda_available = torch.cuda.is_available()\n",
        "\n",
        "device = torch.device('cuda:0' if is_cuda_available and ngpu > 0 else 'cpu')\n",
        "device"
      ],
      "execution_count": 4,
      "outputs": [
        {
          "output_type": "execute_result",
          "data": {
            "text/plain": [
              "device(type='cuda', index=0)"
            ]
          },
          "metadata": {
            "tags": []
          },
          "execution_count": 4
        }
      ]
    },
    {
      "cell_type": "markdown",
      "metadata": {
        "id": "Ww-JPEXwMQZ_",
        "colab_type": "text"
      },
      "source": [
        "## Data for Train the Generator and Discriminator"
      ]
    },
    {
      "cell_type": "code",
      "metadata": {
        "id": "IS8AV_hlMQaA",
        "colab_type": "code",
        "colab": {}
      },
      "source": [
        "class ImageDataset(Dataset):\n",
        "\n",
        "    def __init__(self, path, code=cv2.COLOR_BGR2LAB, transform=T.ToTensor()):\n",
        "        \"\"\"\n",
        "        :param path: Path to the image directory location.\n",
        "        \"\"\"\n",
        "        imgs = None\n",
        "        for folder, sub_folder, filenames in os.walk(path):\n",
        "            imgs = [cv2.imread(os.path.join(path, file)) for file in filenames]\n",
        "            imgs = [cv2.cvtColor(img, code) for img in imgs]\n",
        "            imgs = [np.uint8(img) for img in imgs]\n",
        "\n",
        "        self.imgs = imgs\n",
        "        self.transform = transform\n",
        "\n",
        "    def __len__(self):\n",
        "        return len(self.imgs)\n",
        "\n",
        "    def __getitem__(self, subscript):\n",
        "        if isinstance(subscript, slice):\n",
        "            imgs = []\n",
        "            for img in self.imgs[subscript.start:subscript.stop:subscript.step]:\n",
        "                img = self.transform(img)\n",
        "                imgs.append(img)\n",
        "            return imgs\n",
        "        else:\n",
        "            return self.transform(self.imgs[subscript])\n",
        "\n",
        "    def l_images(self):\n",
        "        imgs = []\n",
        "        for img in self.imgs:\n",
        "            img = self.transform(img)\n",
        "            imgs.append(img[:1, :, :])\n",
        "        return imgs\n",
        "\n",
        "    def ab_images(self):\n",
        "        imgs = []\n",
        "        for img in self.imgs:\n",
        "            img = self.transform(img)\n",
        "            imgs.append(img[1:, :, :])\n",
        "        return imgs\n",
        "        "
      ],
      "execution_count": 5,
      "outputs": []
    },
    {
      "cell_type": "code",
      "metadata": {
        "tags": [],
        "id": "8g06WzbzMQaE",
        "colab_type": "code",
        "colab": {
          "base_uri": "https://localhost:8080/",
          "height": 408
        },
        "outputId": "fc833989-5ea0-4b97-8147-afe69870e0a9"
      },
      "source": [
        "tf_rgb = T.Compose([\n",
        "    T.ToPILImage(),\n",
        "    T.Resize(size=image_size),\n",
        "    T.CenterCrop(size=crop),\n",
        "    T.ToTensor(),\n",
        "    T.Normalize(mean=[.5, .5, .5], std=[.5, .5, .5])\n",
        "])\n",
        "\n",
        "tf_gray = T.Compose([\n",
        "    T.ToPILImage(),\n",
        "    T.Resize(size=image_size),\n",
        "    T.CenterCrop(size=crop),\n",
        "    T.ToTensor(),\n",
        "    T.Normalize(mean=[.5], std=[.5])\n",
        "])\n",
        "\n",
        "tf_ab = T.Compose([\n",
        "    T.ToPILImage(),\n",
        "    T.Resize(size=image_size),\n",
        "    T.CenterCrop(size=crop),\n",
        "    T.ToTensor(),\n",
        "    T.Normalize(mean=[.5, .5], std=[.5, .5])\n",
        "])\n",
        "\n",
        "print(tf_rgb, tf_gray, tf_ab, sep='\\n\\n')"
      ],
      "execution_count": 6,
      "outputs": [
        {
          "output_type": "stream",
          "text": [
            "Compose(\n",
            "    ToPILImage()\n",
            "    Resize(size=512, interpolation=PIL.Image.BILINEAR)\n",
            "    CenterCrop(size=(256, 256))\n",
            "    ToTensor()\n",
            "    Normalize(mean=[0.5, 0.5, 0.5], std=[0.5, 0.5, 0.5])\n",
            ")\n",
            "\n",
            "Compose(\n",
            "    ToPILImage()\n",
            "    Resize(size=512, interpolation=PIL.Image.BILINEAR)\n",
            "    CenterCrop(size=(256, 256))\n",
            "    ToTensor()\n",
            "    Normalize(mean=[0.5], std=[0.5])\n",
            ")\n",
            "\n",
            "Compose(\n",
            "    ToPILImage()\n",
            "    Resize(size=512, interpolation=PIL.Image.BILINEAR)\n",
            "    CenterCrop(size=(256, 256))\n",
            "    ToTensor()\n",
            "    Normalize(mean=[0.5, 0.5], std=[0.5, 0.5])\n",
            ")\n"
          ],
          "name": "stdout"
        }
      ]
    },
    {
      "cell_type": "code",
      "metadata": {
        "id": "AGA9YcBuMQaI",
        "colab_type": "code",
        "colab": {}
      },
      "source": [
        "# Load grayscale dataset.\n",
        "gray_dataset = ImageDataset(path=data_grayscale_root, code=cv2.COLOR_BGR2GRAY, transform=tf_gray)\n",
        "# Load color images with RGB color space.\n",
        "rgb_dataset = ImageDataset(path=data_color_root, code=cv2.COLOR_BGR2RGB, transform=tf_rgb)\n",
        "# Load LAB color space images.\n",
        "lab_dataset = ImageDataset(path=data_color_root, code=cv2.COLOR_BGR2LAB, transform=tf_rgb)"
      ],
      "execution_count": null,
      "outputs": []
    },
    {
      "cell_type": "code",
      "metadata": {
        "id": "YayufkwM4kc4",
        "colab_type": "code",
        "colab": {}
      },
      "source": [
        "gray_loader = DataLoader(dataset=gray_dataset, batch_size=batch_size, shuffle=False, num_workers=workers, pin_memory=is_cuda_available)\n",
        "rgb_loader = DataLoader(dataset=rgb_dataset, batch_size=batch_size, shuffle=False, num_workers=workers, pin_memory=is_cuda_available)\n",
        "lab_loader = DataLoader(dataset=lab_dataset, batch_size=batch_size, shuffle=False, num_workers=workers, pin_memory=is_cuda_available)\n",
        "l_loader = DataLoader(dataset=lab_dataset.l_images(), batch_size=batch_size, shuffle=False, num_workers=workers, pin_memory=is_cuda_available)"
      ],
      "execution_count": null,
      "outputs": []
    },
    {
      "cell_type": "code",
      "metadata": {
        "id": "Ic7C54ydMQaV",
        "colab_type": "code",
        "colab": {}
      },
      "source": [
        "FIG_SIZE = (16, 15)\n",
        "\n",
        "gray_batch1 = next(iter(gray_loader))\n",
        "rgb_batch1 = next(iter(rgb_loader))\n",
        "lab_batch1 = next(iter(lab_loader))\n",
        "l_batch1 = next(iter(l_loader))\n",
        "\n",
        "im_gray = make_grid(gray_batch1, nrow=10, normalize=True)\n",
        "im_rgb = make_grid(rgb_batch1, nrow=10, normalize=True)\n",
        "im_lab = make_grid(lab_batch1, nrow=10, normalize=True)\n",
        "im_l = make_grid(l_batch1, nrow=10, normalize=True)\n",
        "\n",
        "plt.figure(figsize=FIG_SIZE)\n",
        "\n",
        "# Original grayscale images grid.\n",
        "plt.subplot(411)\n",
        "plt.imshow(np.transpose(im_gray, axes=(1, 2, 0)))\n",
        "plt.title('ORIGINAL: GRAYSCALE SAMPLE')\n",
        "\n",
        "# Original RGB images grid.\n",
        "plt.subplot(412)\n",
        "plt.imshow(np.transpose(im_rgb, axes=(1, 2, 0)))\n",
        "plt.title('ORIGINAL RGB COLOR SPACE SAMPLE')\n",
        "\n",
        "# L color channel of LAB color space.\n",
        "plt.subplot(413)\n",
        "plt.imshow(np.transpose(im_l, axes=(1, 2, 0)))\n",
        "plt.title('\"L\" COLOR CHANNEL OF LAB SAMPLE')\n",
        "\n",
        "# AB color channels of LAB color space.\n",
        "plt.subplot(414)\n",
        "plt.imshow(np.transpose(im_lab, axes=(1, 2, 0)))\n",
        "plt.title('\"LAB\" COLOR CHANNELS OF LAB SAMPLE')\n"
      ],
      "execution_count": null,
      "outputs": []
    },
    {
      "cell_type": "markdown",
      "metadata": {
        "id": "mG4ynko5MQaY",
        "colab_type": "text"
      },
      "source": [
        "## Weight Initialization for the Layer of Both of the Discriminator and Generator Models"
      ]
    },
    {
      "cell_type": "code",
      "metadata": {
        "id": "210pf27ZMQaZ",
        "colab_type": "code",
        "colab": {}
      },
      "source": [
        "def weight_init(m):\n",
        "\n",
        "    classname = m.__class__.__name__\n",
        "    if classname.find('Conv') != -1:\n",
        "        nn.init.normal_(m.weight.data, mean=0., std=0.2)\n",
        "    elif classname.find('BatchNorm') != -1:\n",
        "        nn.init.normal_(m.weight.data, mean=1., std=0.2)\n",
        "        nn.init.constant_(m.bias.data, val=0.)\n",
        "        "
      ],
      "execution_count": 8,
      "outputs": []
    },
    {
      "cell_type": "code",
      "metadata": {
        "id": "HqGO8iSLMQad",
        "colab_type": "code",
        "colab": {
          "base_uri": "https://localhost:8080/",
          "height": 374
        },
        "outputId": "c68474c4-4da3-413d-9cf9-7a46d68506d6"
      },
      "source": [
        "class Generator(nn.Module):\n",
        "\n",
        "    def __init__(self, nz=1):\n",
        "        super(Generator, self).__init__()\n",
        "\n",
        "        # Encoding/Contracting Layers.\n",
        "        self.e_conv1 = nn.Conv2d(in_channels=nz, out_channels=ngf, kernel_size=1, stride=1)\n",
        "        self.e_conv2 = nn.Conv2d(in_channels=ngf, out_channels=ngf, kernel_size=4, stride=2, padding=1)\n",
        "        self.e_conv3 = nn.Conv2d(in_channels=ngf, out_channels=ngf * 2, kernel_size=4, stride=2, padding=1)\n",
        "        self.e_conv4 = nn.Conv2d(in_channels=ngf * 2, out_channels=ngf * 4, kernel_size=4, stride=2, padding=1)\n",
        "        self.e_conv5 = nn.Conv2d(in_channels=ngf * 4, out_channels=ngf * 8, kernel_size=4, stride=2, padding=1)\n",
        "        self.e_conv6 = nn.Conv2d(in_channels=ngf * 8, out_channels=ngf * 16, kernel_size=4, stride=2, padding=1)\n",
        "        self.e_conv7 = nn.Conv2d(in_channels=ngf * 16, out_channels=ngf * 32, kernel_size=4, stride=2, padding=1)\n",
        "        self.e_conv8 = nn.Conv2d(in_channels=ngf * 32, out_channels=ngf * 32, kernel_size=4, stride=2, padding=1)\n",
        "        self.e_conv9 = nn.Conv2d(in_channels=ngf * 32, out_channels=ngf * 32, kernel_size=4, stride=2, padding=1)\n",
        "\n",
        "        # Decode/Expansive Layers.\n",
        "        self.d_conv1 = nn.ConvTranspose2d(in_channels=ngf * 32, out_channels=ngf * 32, kernel_size=4, stride=2)\n",
        "        self.d_conv2 = nn.ConvTranspose2d(in_channels=ngf * 32, out_channels=ngf * 16, kernel_size=4, stride=2)\n",
        "        self.d_conv3 = nn.ConvTranspose2d(in_channels=ngf * 16, out_channels=ngf * 8, kernel_size=4, stride=2)\n",
        "        self.d_conv4 = nn.ConvTranspose2d(in_channels=ngf * 8, out_channels=ngf * 4, kernel_size=4, stride=2)\n",
        "        self.d_conv5 = nn.ConvTranspose2d(in_channels=ngf * 4, out_channels=ngf * 2, kernel_size=4, stride=2)\n",
        "        self.d_conv6 = nn.ConvTranspose2d(in_channels=ngf * 2, out_channels=ngf, kernel_size=4, stride=2)\n",
        "        self.d_conv7 = nn.ConvTranspose2d(in_channels=ngf, out_channels=ngf, kernel_size=4, stride=2)\n",
        "        # cross-channel parametric pooling layer.\n",
        "        self.d_conv8 = nn.ConvTranspose2d(in_channels=ngf, out_channels=nc, kernel_size=1, stride=1)\n",
        "\n",
        "        self.batchnorm64 = nn.BatchNorm2d(ngf)\n",
        "        self.batchnorm128 = nn.BatchNorm2d(ngf * 2)\n",
        "        self.batchnorm256 = nn.BatchNorm2d(ngf * 4)\n",
        "        self.batchnorm512 = nn.BatchNorm2d(ngf * 8)\n",
        "        self.batchnorm1024 = nn.BatchNorm2d(ngf * 16)\n",
        "        self.batchnorm2048 = nn.BatchNorm2d(ngf * 32)\n",
        "\n",
        "    def forward(self, X):\n",
        "        # Feed forward to contraction.\n",
        "        co1 = F.leaky_relu(self.batchnorm64(self.e_conv1(X)), negative_slope=0.2)\n",
        "        co2 = F.leaky_relu(self.batchnorm64(self.e_conv2(co1)), negative_slope=0.2)\n",
        "        co3 = F.leaky_relu(self.batchnorm128(self.e_conv3(co2)), negative_slope=0.2)\n",
        "        co4 = F.leaky_relu(self.batchnorm256(self.e_conv4(co3)), negative_slope=0.2)\n",
        "        co5 = F.leaky_relu(self.batchnorm512(self.e_conv5(co4)), negative_slope=0.2)\n",
        "        co6 = F.leaky_relu(self.batchnorm1024(self.e_conv6(co5)), negative_slope=0.2)\n",
        "        co7 = F.leaky_relu(self.batchnorm2048(self.e_conv7(co6)), negative_slope=0.2)\n",
        "        co8 = F.leaky_relu(self.batchnorm2048(self.e_conv8(co7)), negative_slope=0.2)\n",
        "        out = F.leaky_relu(self.batchnorm2048(self.e_conv9(co8)), negative_slope=0.2)\n",
        "\n",
        "        # Feed forward to expansion.\n",
        "        out = F.relu(self.batchnorm2048(self.d_conv1(out)))\n",
        "        print(out.shape, co8.shape)\n",
        "        out = torch.cat([out, co7], dim=1)\n",
        "\n",
        "        return out\n",
        "\n",
        "# Create the generator(G) model instance.\n",
        "netG = Generator().to(device)\n",
        "netG.apply(weight_init)\n"
      ],
      "execution_count": 26,
      "outputs": [
        {
          "output_type": "error",
          "ename": "RuntimeError",
          "evalue": "ignored",
          "traceback": [
            "\u001b[0;31m---------------------------------------------------------------------------\u001b[0m",
            "\u001b[0;31mRuntimeError\u001b[0m                              Traceback (most recent call last)",
            "\u001b[0;32m<ipython-input-26-e7064f1c3853>\u001b[0m in \u001b[0;36m<module>\u001b[0;34m()\u001b[0m\n\u001b[1;32m     53\u001b[0m \u001b[0;34m\u001b[0m\u001b[0m\n\u001b[1;32m     54\u001b[0m \u001b[0;31m# Create the generator(G) model instance.\u001b[0m\u001b[0;34m\u001b[0m\u001b[0;34m\u001b[0m\u001b[0;34m\u001b[0m\u001b[0m\n\u001b[0;32m---> 55\u001b[0;31m \u001b[0mnetG\u001b[0m \u001b[0;34m=\u001b[0m \u001b[0mGenerator\u001b[0m\u001b[0;34m(\u001b[0m\u001b[0;34m)\u001b[0m\u001b[0;34m.\u001b[0m\u001b[0mto\u001b[0m\u001b[0;34m(\u001b[0m\u001b[0mdevice\u001b[0m\u001b[0;34m)\u001b[0m\u001b[0;34m\u001b[0m\u001b[0;34m\u001b[0m\u001b[0m\n\u001b[0m\u001b[1;32m     56\u001b[0m \u001b[0mnetG\u001b[0m\u001b[0;34m.\u001b[0m\u001b[0mapply\u001b[0m\u001b[0;34m(\u001b[0m\u001b[0mweight_init\u001b[0m\u001b[0;34m)\u001b[0m\u001b[0;34m\u001b[0m\u001b[0;34m\u001b[0m\u001b[0m\n",
            "\u001b[0;32m/usr/local/lib/python3.6/dist-packages/torch/nn/modules/module.py\u001b[0m in \u001b[0;36mto\u001b[0;34m(self, *args, **kwargs)\u001b[0m\n\u001b[1;32m    605\u001b[0m             \u001b[0;32mreturn\u001b[0m \u001b[0mt\u001b[0m\u001b[0;34m.\u001b[0m\u001b[0mto\u001b[0m\u001b[0;34m(\u001b[0m\u001b[0mdevice\u001b[0m\u001b[0;34m,\u001b[0m \u001b[0mdtype\u001b[0m \u001b[0;32mif\u001b[0m \u001b[0mt\u001b[0m\u001b[0;34m.\u001b[0m\u001b[0mis_floating_point\u001b[0m\u001b[0;34m(\u001b[0m\u001b[0;34m)\u001b[0m \u001b[0;32melse\u001b[0m \u001b[0;32mNone\u001b[0m\u001b[0;34m,\u001b[0m \u001b[0mnon_blocking\u001b[0m\u001b[0;34m)\u001b[0m\u001b[0;34m\u001b[0m\u001b[0;34m\u001b[0m\u001b[0m\n\u001b[1;32m    606\u001b[0m \u001b[0;34m\u001b[0m\u001b[0m\n\u001b[0;32m--> 607\u001b[0;31m         \u001b[0;32mreturn\u001b[0m \u001b[0mself\u001b[0m\u001b[0;34m.\u001b[0m\u001b[0m_apply\u001b[0m\u001b[0;34m(\u001b[0m\u001b[0mconvert\u001b[0m\u001b[0;34m)\u001b[0m\u001b[0;34m\u001b[0m\u001b[0;34m\u001b[0m\u001b[0m\n\u001b[0m\u001b[1;32m    608\u001b[0m \u001b[0;34m\u001b[0m\u001b[0m\n\u001b[1;32m    609\u001b[0m     def register_backward_hook(\n",
            "\u001b[0;32m/usr/local/lib/python3.6/dist-packages/torch/nn/modules/module.py\u001b[0m in \u001b[0;36m_apply\u001b[0;34m(self, fn)\u001b[0m\n\u001b[1;32m    352\u001b[0m     \u001b[0;32mdef\u001b[0m \u001b[0m_apply\u001b[0m\u001b[0;34m(\u001b[0m\u001b[0mself\u001b[0m\u001b[0;34m,\u001b[0m \u001b[0mfn\u001b[0m\u001b[0;34m)\u001b[0m\u001b[0;34m:\u001b[0m\u001b[0;34m\u001b[0m\u001b[0;34m\u001b[0m\u001b[0m\n\u001b[1;32m    353\u001b[0m         \u001b[0;32mfor\u001b[0m \u001b[0mmodule\u001b[0m \u001b[0;32min\u001b[0m \u001b[0mself\u001b[0m\u001b[0;34m.\u001b[0m\u001b[0mchildren\u001b[0m\u001b[0;34m(\u001b[0m\u001b[0;34m)\u001b[0m\u001b[0;34m:\u001b[0m\u001b[0;34m\u001b[0m\u001b[0;34m\u001b[0m\u001b[0m\n\u001b[0;32m--> 354\u001b[0;31m             \u001b[0mmodule\u001b[0m\u001b[0;34m.\u001b[0m\u001b[0m_apply\u001b[0m\u001b[0;34m(\u001b[0m\u001b[0mfn\u001b[0m\u001b[0;34m)\u001b[0m\u001b[0;34m\u001b[0m\u001b[0;34m\u001b[0m\u001b[0m\n\u001b[0m\u001b[1;32m    355\u001b[0m \u001b[0;34m\u001b[0m\u001b[0m\n\u001b[1;32m    356\u001b[0m         \u001b[0;32mdef\u001b[0m \u001b[0mcompute_should_use_set_data\u001b[0m\u001b[0;34m(\u001b[0m\u001b[0mtensor\u001b[0m\u001b[0;34m,\u001b[0m \u001b[0mtensor_applied\u001b[0m\u001b[0;34m)\u001b[0m\u001b[0;34m:\u001b[0m\u001b[0;34m\u001b[0m\u001b[0;34m\u001b[0m\u001b[0m\n",
            "\u001b[0;32m/usr/local/lib/python3.6/dist-packages/torch/nn/modules/module.py\u001b[0m in \u001b[0;36m_apply\u001b[0;34m(self, fn)\u001b[0m\n\u001b[1;32m    374\u001b[0m                 \u001b[0;31m# `with torch.no_grad():`\u001b[0m\u001b[0;34m\u001b[0m\u001b[0;34m\u001b[0m\u001b[0;34m\u001b[0m\u001b[0m\n\u001b[1;32m    375\u001b[0m                 \u001b[0;32mwith\u001b[0m \u001b[0mtorch\u001b[0m\u001b[0;34m.\u001b[0m\u001b[0mno_grad\u001b[0m\u001b[0;34m(\u001b[0m\u001b[0;34m)\u001b[0m\u001b[0;34m:\u001b[0m\u001b[0;34m\u001b[0m\u001b[0;34m\u001b[0m\u001b[0m\n\u001b[0;32m--> 376\u001b[0;31m                     \u001b[0mparam_applied\u001b[0m \u001b[0;34m=\u001b[0m \u001b[0mfn\u001b[0m\u001b[0;34m(\u001b[0m\u001b[0mparam\u001b[0m\u001b[0;34m)\u001b[0m\u001b[0;34m\u001b[0m\u001b[0;34m\u001b[0m\u001b[0m\n\u001b[0m\u001b[1;32m    377\u001b[0m                 \u001b[0mshould_use_set_data\u001b[0m \u001b[0;34m=\u001b[0m \u001b[0mcompute_should_use_set_data\u001b[0m\u001b[0;34m(\u001b[0m\u001b[0mparam\u001b[0m\u001b[0;34m,\u001b[0m \u001b[0mparam_applied\u001b[0m\u001b[0;34m)\u001b[0m\u001b[0;34m\u001b[0m\u001b[0;34m\u001b[0m\u001b[0m\n\u001b[1;32m    378\u001b[0m                 \u001b[0;32mif\u001b[0m \u001b[0mshould_use_set_data\u001b[0m\u001b[0;34m:\u001b[0m\u001b[0;34m\u001b[0m\u001b[0;34m\u001b[0m\u001b[0m\n",
            "\u001b[0;32m/usr/local/lib/python3.6/dist-packages/torch/nn/modules/module.py\u001b[0m in \u001b[0;36mconvert\u001b[0;34m(t)\u001b[0m\n\u001b[1;32m    603\u001b[0m             \u001b[0;32mif\u001b[0m \u001b[0mconvert_to_format\u001b[0m \u001b[0;32mis\u001b[0m \u001b[0;32mnot\u001b[0m \u001b[0;32mNone\u001b[0m \u001b[0;32mand\u001b[0m \u001b[0mt\u001b[0m\u001b[0;34m.\u001b[0m\u001b[0mdim\u001b[0m\u001b[0;34m(\u001b[0m\u001b[0;34m)\u001b[0m \u001b[0;34m==\u001b[0m \u001b[0;36m4\u001b[0m\u001b[0;34m:\u001b[0m\u001b[0;34m\u001b[0m\u001b[0;34m\u001b[0m\u001b[0m\n\u001b[1;32m    604\u001b[0m                 \u001b[0;32mreturn\u001b[0m \u001b[0mt\u001b[0m\u001b[0;34m.\u001b[0m\u001b[0mto\u001b[0m\u001b[0;34m(\u001b[0m\u001b[0mdevice\u001b[0m\u001b[0;34m,\u001b[0m \u001b[0mdtype\u001b[0m \u001b[0;32mif\u001b[0m \u001b[0mt\u001b[0m\u001b[0;34m.\u001b[0m\u001b[0mis_floating_point\u001b[0m\u001b[0;34m(\u001b[0m\u001b[0;34m)\u001b[0m \u001b[0;32melse\u001b[0m \u001b[0;32mNone\u001b[0m\u001b[0;34m,\u001b[0m \u001b[0mnon_blocking\u001b[0m\u001b[0;34m,\u001b[0m \u001b[0mmemory_format\u001b[0m\u001b[0;34m=\u001b[0m\u001b[0mconvert_to_format\u001b[0m\u001b[0;34m)\u001b[0m\u001b[0;34m\u001b[0m\u001b[0;34m\u001b[0m\u001b[0m\n\u001b[0;32m--> 605\u001b[0;31m             \u001b[0;32mreturn\u001b[0m \u001b[0mt\u001b[0m\u001b[0;34m.\u001b[0m\u001b[0mto\u001b[0m\u001b[0;34m(\u001b[0m\u001b[0mdevice\u001b[0m\u001b[0;34m,\u001b[0m \u001b[0mdtype\u001b[0m \u001b[0;32mif\u001b[0m \u001b[0mt\u001b[0m\u001b[0;34m.\u001b[0m\u001b[0mis_floating_point\u001b[0m\u001b[0;34m(\u001b[0m\u001b[0;34m)\u001b[0m \u001b[0;32melse\u001b[0m \u001b[0;32mNone\u001b[0m\u001b[0;34m,\u001b[0m \u001b[0mnon_blocking\u001b[0m\u001b[0;34m)\u001b[0m\u001b[0;34m\u001b[0m\u001b[0;34m\u001b[0m\u001b[0m\n\u001b[0m\u001b[1;32m    606\u001b[0m \u001b[0;34m\u001b[0m\u001b[0m\n\u001b[1;32m    607\u001b[0m         \u001b[0;32mreturn\u001b[0m \u001b[0mself\u001b[0m\u001b[0;34m.\u001b[0m\u001b[0m_apply\u001b[0m\u001b[0;34m(\u001b[0m\u001b[0mconvert\u001b[0m\u001b[0;34m)\u001b[0m\u001b[0;34m\u001b[0m\u001b[0;34m\u001b[0m\u001b[0m\n",
            "\u001b[0;31mRuntimeError\u001b[0m: CUDA out of memory. Tried to allocate 256.00 MiB (GPU 0; 11.17 GiB total capacity; 10.51 GiB already allocated; 221.81 MiB free; 10.59 GiB reserved in total by PyTorch)"
          ]
        }
      ]
    },
    {
      "cell_type": "code",
      "metadata": {
        "id": "nx3Y2DB80vzU",
        "colab_type": "code",
        "colab": {
          "base_uri": "https://localhost:8080/",
          "height": 68
        },
        "outputId": "bada4eef-70f2-4273-83d4-bb851ea6d37c"
      },
      "source": [
        "X = torch.ones(10, 1, 256, 256, device=device)\n",
        "\n",
        "y = netG(X)\n",
        "print(y.shape)"
      ],
      "execution_count": 24,
      "outputs": [
        {
          "output_type": "stream",
          "text": [
            "torch.Size([10, 2048, 1, 1])\n",
            "torch.Size([10, 2048, 4, 4]) torch.Size([10, 2048, 2, 2])\n",
            "torch.Size([10, 3072, 4, 4])\n"
          ],
          "name": "stdout"
        }
      ]
    },
    {
      "cell_type": "code",
      "metadata": {
        "id": "051Gi5yAjbxp",
        "colab_type": "code",
        "tags": [],
        "colab": {
          "base_uri": "https://localhost:8080/",
          "height": 374
        },
        "outputId": "fb6e3578-0005-48fb-d7a0-af2c71b62af6"
      },
      "source": [
        "with torch.no_grad():\n",
        "    X = torch.ones(10, 1, 256, 256, device=device)\n",
        "\n",
        "    y = netG(X)\n",
        "    print(y.shape)\n",
        "\n",
        "im = make_grid(y.detach().cpu(), nrow=10, normalize=True)\n",
        "im = np.transpose(im.numpy() * 255, axes=(1, 2, 0)).astype(np.uint8)\n",
        "\n",
        "plt.figure(figsize=(12, 11))\n",
        "plt.imshow(cv2.cvtColor(im, code=cv2.COLOR_LAB2RGB))"
      ],
      "execution_count": null,
      "outputs": [
        {
          "output_type": "error",
          "ename": "RuntimeError",
          "evalue": "ignored",
          "traceback": [
            "\u001b[0;31m---------------------------------------------------------------------------\u001b[0m",
            "\u001b[0;31mRuntimeError\u001b[0m                              Traceback (most recent call last)",
            "\u001b[0;32m<ipython-input-88-54d56e7f3683>\u001b[0m in \u001b[0;36m<module>\u001b[0;34m()\u001b[0m\n\u001b[1;32m      2\u001b[0m     \u001b[0mX\u001b[0m \u001b[0;34m=\u001b[0m \u001b[0mtorch\u001b[0m\u001b[0;34m.\u001b[0m\u001b[0mones\u001b[0m\u001b[0;34m(\u001b[0m\u001b[0;36m10\u001b[0m\u001b[0;34m,\u001b[0m \u001b[0;36m1\u001b[0m\u001b[0;34m,\u001b[0m \u001b[0;36m256\u001b[0m\u001b[0;34m,\u001b[0m \u001b[0;36m256\u001b[0m\u001b[0;34m,\u001b[0m \u001b[0mdevice\u001b[0m\u001b[0;34m=\u001b[0m\u001b[0mdevice\u001b[0m\u001b[0;34m)\u001b[0m\u001b[0;34m\u001b[0m\u001b[0;34m\u001b[0m\u001b[0m\n\u001b[1;32m      3\u001b[0m \u001b[0;34m\u001b[0m\u001b[0m\n\u001b[0;32m----> 4\u001b[0;31m     \u001b[0my\u001b[0m \u001b[0;34m=\u001b[0m \u001b[0mnetG\u001b[0m\u001b[0;34m(\u001b[0m\u001b[0mX\u001b[0m\u001b[0;34m)\u001b[0m\u001b[0;34m\u001b[0m\u001b[0;34m\u001b[0m\u001b[0m\n\u001b[0m\u001b[1;32m      5\u001b[0m     \u001b[0mprint\u001b[0m\u001b[0;34m(\u001b[0m\u001b[0my\u001b[0m\u001b[0;34m.\u001b[0m\u001b[0mshape\u001b[0m\u001b[0;34m)\u001b[0m\u001b[0;34m\u001b[0m\u001b[0;34m\u001b[0m\u001b[0m\n\u001b[1;32m      6\u001b[0m \u001b[0;34m\u001b[0m\u001b[0m\n",
            "\u001b[0;32m/usr/local/lib/python3.6/dist-packages/torch/nn/modules/module.py\u001b[0m in \u001b[0;36m_call_impl\u001b[0;34m(self, *input, **kwargs)\u001b[0m\n\u001b[1;32m    720\u001b[0m             \u001b[0mresult\u001b[0m \u001b[0;34m=\u001b[0m \u001b[0mself\u001b[0m\u001b[0;34m.\u001b[0m\u001b[0m_slow_forward\u001b[0m\u001b[0;34m(\u001b[0m\u001b[0;34m*\u001b[0m\u001b[0minput\u001b[0m\u001b[0;34m,\u001b[0m \u001b[0;34m**\u001b[0m\u001b[0mkwargs\u001b[0m\u001b[0;34m)\u001b[0m\u001b[0;34m\u001b[0m\u001b[0;34m\u001b[0m\u001b[0m\n\u001b[1;32m    721\u001b[0m         \u001b[0;32melse\u001b[0m\u001b[0;34m:\u001b[0m\u001b[0;34m\u001b[0m\u001b[0;34m\u001b[0m\u001b[0m\n\u001b[0;32m--> 722\u001b[0;31m             \u001b[0mresult\u001b[0m \u001b[0;34m=\u001b[0m \u001b[0mself\u001b[0m\u001b[0;34m.\u001b[0m\u001b[0mforward\u001b[0m\u001b[0;34m(\u001b[0m\u001b[0;34m*\u001b[0m\u001b[0minput\u001b[0m\u001b[0;34m,\u001b[0m \u001b[0;34m**\u001b[0m\u001b[0mkwargs\u001b[0m\u001b[0;34m)\u001b[0m\u001b[0;34m\u001b[0m\u001b[0;34m\u001b[0m\u001b[0m\n\u001b[0m\u001b[1;32m    723\u001b[0m         for hook in itertools.chain(\n\u001b[1;32m    724\u001b[0m                 \u001b[0m_global_forward_hooks\u001b[0m\u001b[0;34m.\u001b[0m\u001b[0mvalues\u001b[0m\u001b[0;34m(\u001b[0m\u001b[0;34m)\u001b[0m\u001b[0;34m,\u001b[0m\u001b[0;34m\u001b[0m\u001b[0;34m\u001b[0m\u001b[0m\n",
            "\u001b[0;32m<ipython-input-85-ce60ae433364>\u001b[0m in \u001b[0;36mforward\u001b[0;34m(self, X)\u001b[0m\n\u001b[1;32m     41\u001b[0m         \u001b[0mco5\u001b[0m \u001b[0;34m=\u001b[0m \u001b[0mF\u001b[0m\u001b[0;34m.\u001b[0m\u001b[0mleaky_relu\u001b[0m\u001b[0;34m(\u001b[0m\u001b[0mself\u001b[0m\u001b[0;34m.\u001b[0m\u001b[0mbatchnorm5\u001b[0m\u001b[0;34m(\u001b[0m\u001b[0mself\u001b[0m\u001b[0;34m.\u001b[0m\u001b[0me_conv5\u001b[0m\u001b[0;34m(\u001b[0m\u001b[0mco4\u001b[0m\u001b[0;34m)\u001b[0m\u001b[0;34m)\u001b[0m\u001b[0;34m,\u001b[0m \u001b[0mnegative_slope\u001b[0m\u001b[0;34m=\u001b[0m\u001b[0;36m0.2\u001b[0m\u001b[0;34m)\u001b[0m\u001b[0;34m\u001b[0m\u001b[0;34m\u001b[0m\u001b[0m\n\u001b[1;32m     42\u001b[0m         \u001b[0mco6\u001b[0m \u001b[0;34m=\u001b[0m \u001b[0mF\u001b[0m\u001b[0;34m.\u001b[0m\u001b[0mleaky_relu\u001b[0m\u001b[0;34m(\u001b[0m\u001b[0mself\u001b[0m\u001b[0;34m.\u001b[0m\u001b[0mbatchnorm6\u001b[0m\u001b[0;34m(\u001b[0m\u001b[0mself\u001b[0m\u001b[0;34m.\u001b[0m\u001b[0me_conv6\u001b[0m\u001b[0;34m(\u001b[0m\u001b[0mco5\u001b[0m\u001b[0;34m)\u001b[0m\u001b[0;34m)\u001b[0m\u001b[0;34m,\u001b[0m \u001b[0mnegative_slope\u001b[0m\u001b[0;34m=\u001b[0m\u001b[0;36m0.2\u001b[0m\u001b[0;34m)\u001b[0m\u001b[0;34m\u001b[0m\u001b[0;34m\u001b[0m\u001b[0m\n\u001b[0;32m---> 43\u001b[0;31m         \u001b[0mco7\u001b[0m \u001b[0;34m=\u001b[0m \u001b[0mF\u001b[0m\u001b[0;34m.\u001b[0m\u001b[0mleaky_relu\u001b[0m\u001b[0;34m(\u001b[0m\u001b[0mself\u001b[0m\u001b[0;34m.\u001b[0m\u001b[0mbatchnorm7\u001b[0m\u001b[0;34m(\u001b[0m\u001b[0mself\u001b[0m\u001b[0;34m.\u001b[0m\u001b[0me_conv7\u001b[0m\u001b[0;34m(\u001b[0m\u001b[0mco6\u001b[0m\u001b[0;34m)\u001b[0m\u001b[0;34m)\u001b[0m\u001b[0;34m,\u001b[0m \u001b[0mnegative_slope\u001b[0m\u001b[0;34m=\u001b[0m\u001b[0;36m0.2\u001b[0m\u001b[0;34m)\u001b[0m\u001b[0;34m\u001b[0m\u001b[0;34m\u001b[0m\u001b[0m\n\u001b[0m\u001b[1;32m     44\u001b[0m         \u001b[0mco8\u001b[0m \u001b[0;34m=\u001b[0m \u001b[0mF\u001b[0m\u001b[0;34m.\u001b[0m\u001b[0mleaky_relu\u001b[0m\u001b[0;34m(\u001b[0m\u001b[0mself\u001b[0m\u001b[0;34m.\u001b[0m\u001b[0mbatchnorm8\u001b[0m\u001b[0;34m(\u001b[0m\u001b[0mself\u001b[0m\u001b[0;34m.\u001b[0m\u001b[0me_conv8\u001b[0m\u001b[0;34m(\u001b[0m\u001b[0mco7\u001b[0m\u001b[0;34m)\u001b[0m\u001b[0;34m)\u001b[0m\u001b[0;34m,\u001b[0m \u001b[0mnegative_slope\u001b[0m\u001b[0;34m=\u001b[0m\u001b[0;36m0.2\u001b[0m\u001b[0;34m)\u001b[0m\u001b[0;34m\u001b[0m\u001b[0;34m\u001b[0m\u001b[0m\n\u001b[1;32m     45\u001b[0m \u001b[0;34m\u001b[0m\u001b[0m\n",
            "\u001b[0;32m/usr/local/lib/python3.6/dist-packages/torch/nn/modules/module.py\u001b[0m in \u001b[0;36m_call_impl\u001b[0;34m(self, *input, **kwargs)\u001b[0m\n\u001b[1;32m    720\u001b[0m             \u001b[0mresult\u001b[0m \u001b[0;34m=\u001b[0m \u001b[0mself\u001b[0m\u001b[0;34m.\u001b[0m\u001b[0m_slow_forward\u001b[0m\u001b[0;34m(\u001b[0m\u001b[0;34m*\u001b[0m\u001b[0minput\u001b[0m\u001b[0;34m,\u001b[0m \u001b[0;34m**\u001b[0m\u001b[0mkwargs\u001b[0m\u001b[0;34m)\u001b[0m\u001b[0;34m\u001b[0m\u001b[0;34m\u001b[0m\u001b[0m\n\u001b[1;32m    721\u001b[0m         \u001b[0;32melse\u001b[0m\u001b[0;34m:\u001b[0m\u001b[0;34m\u001b[0m\u001b[0;34m\u001b[0m\u001b[0m\n\u001b[0;32m--> 722\u001b[0;31m             \u001b[0mresult\u001b[0m \u001b[0;34m=\u001b[0m \u001b[0mself\u001b[0m\u001b[0;34m.\u001b[0m\u001b[0mforward\u001b[0m\u001b[0;34m(\u001b[0m\u001b[0;34m*\u001b[0m\u001b[0minput\u001b[0m\u001b[0;34m,\u001b[0m \u001b[0;34m**\u001b[0m\u001b[0mkwargs\u001b[0m\u001b[0;34m)\u001b[0m\u001b[0;34m\u001b[0m\u001b[0;34m\u001b[0m\u001b[0m\n\u001b[0m\u001b[1;32m    723\u001b[0m         for hook in itertools.chain(\n\u001b[1;32m    724\u001b[0m                 \u001b[0m_global_forward_hooks\u001b[0m\u001b[0;34m.\u001b[0m\u001b[0mvalues\u001b[0m\u001b[0;34m(\u001b[0m\u001b[0;34m)\u001b[0m\u001b[0;34m,\u001b[0m\u001b[0;34m\u001b[0m\u001b[0;34m\u001b[0m\u001b[0m\n",
            "\u001b[0;32m/usr/local/lib/python3.6/dist-packages/torch/nn/modules/batchnorm.py\u001b[0m in \u001b[0;36mforward\u001b[0;34m(self, input)\u001b[0m\n\u001b[1;32m    134\u001b[0m             \u001b[0mself\u001b[0m\u001b[0;34m.\u001b[0m\u001b[0mrunning_mean\u001b[0m \u001b[0;32mif\u001b[0m \u001b[0;32mnot\u001b[0m \u001b[0mself\u001b[0m\u001b[0;34m.\u001b[0m\u001b[0mtraining\u001b[0m \u001b[0;32mor\u001b[0m \u001b[0mself\u001b[0m\u001b[0;34m.\u001b[0m\u001b[0mtrack_running_stats\u001b[0m \u001b[0;32melse\u001b[0m \u001b[0;32mNone\u001b[0m\u001b[0;34m,\u001b[0m\u001b[0;34m\u001b[0m\u001b[0;34m\u001b[0m\u001b[0m\n\u001b[1;32m    135\u001b[0m             \u001b[0mself\u001b[0m\u001b[0;34m.\u001b[0m\u001b[0mrunning_var\u001b[0m \u001b[0;32mif\u001b[0m \u001b[0;32mnot\u001b[0m \u001b[0mself\u001b[0m\u001b[0;34m.\u001b[0m\u001b[0mtraining\u001b[0m \u001b[0;32mor\u001b[0m \u001b[0mself\u001b[0m\u001b[0;34m.\u001b[0m\u001b[0mtrack_running_stats\u001b[0m \u001b[0;32melse\u001b[0m \u001b[0;32mNone\u001b[0m\u001b[0;34m,\u001b[0m\u001b[0;34m\u001b[0m\u001b[0;34m\u001b[0m\u001b[0m\n\u001b[0;32m--> 136\u001b[0;31m             self.weight, self.bias, bn_training, exponential_average_factor, self.eps)\n\u001b[0m\u001b[1;32m    137\u001b[0m \u001b[0;34m\u001b[0m\u001b[0m\n\u001b[1;32m    138\u001b[0m \u001b[0;34m\u001b[0m\u001b[0m\n",
            "\u001b[0;32m/usr/local/lib/python3.6/dist-packages/torch/nn/functional.py\u001b[0m in \u001b[0;36mbatch_norm\u001b[0;34m(input, running_mean, running_var, weight, bias, training, momentum, eps)\u001b[0m\n\u001b[1;32m   2014\u001b[0m     return torch.batch_norm(\n\u001b[1;32m   2015\u001b[0m         \u001b[0minput\u001b[0m\u001b[0;34m,\u001b[0m \u001b[0mweight\u001b[0m\u001b[0;34m,\u001b[0m \u001b[0mbias\u001b[0m\u001b[0;34m,\u001b[0m \u001b[0mrunning_mean\u001b[0m\u001b[0;34m,\u001b[0m \u001b[0mrunning_var\u001b[0m\u001b[0;34m,\u001b[0m\u001b[0;34m\u001b[0m\u001b[0;34m\u001b[0m\u001b[0m\n\u001b[0;32m-> 2016\u001b[0;31m         \u001b[0mtraining\u001b[0m\u001b[0;34m,\u001b[0m \u001b[0mmomentum\u001b[0m\u001b[0;34m,\u001b[0m \u001b[0meps\u001b[0m\u001b[0;34m,\u001b[0m \u001b[0mtorch\u001b[0m\u001b[0;34m.\u001b[0m\u001b[0mbackends\u001b[0m\u001b[0;34m.\u001b[0m\u001b[0mcudnn\u001b[0m\u001b[0;34m.\u001b[0m\u001b[0menabled\u001b[0m\u001b[0;34m\u001b[0m\u001b[0;34m\u001b[0m\u001b[0m\n\u001b[0m\u001b[1;32m   2017\u001b[0m     )\n\u001b[1;32m   2018\u001b[0m \u001b[0;34m\u001b[0m\u001b[0m\n",
            "\u001b[0;31mRuntimeError\u001b[0m: running_mean should contain 32 elements not 2048"
          ]
        }
      ]
    },
    {
      "cell_type": "code",
      "metadata": {
        "id": "8vA06F6gMQah",
        "colab_type": "code",
        "colab": {
          "base_uri": "https://localhost:8080/",
          "height": 357
        },
        "outputId": "8c9603ba-d101-46fe-d918-583123d6c8cb"
      },
      "source": [
        "class Discriminator(nn.Module):\n",
        "\n",
        "    def __init__(self):\n",
        "        super(Discriminator, self).__init__()\n",
        "\n",
        "        self.ngpu = ngpu\n",
        "        self.main = nn.Sequential(\n",
        "            # Input is (nc) x 512 x 288\n",
        "            nn.Conv2d(in_channels=nc, out_channels=ndf, kernel_size=4, stride=2, padding=1, bias=False),\n",
        "            nn.LeakyReLU(negative_slope=0.2, inplace=True),\n",
        "            # State size => (ndf) x 256 x 144\n",
        "            nn.Conv2d(in_channels=ndf, out_channels=ndf * 2, kernel_size=4, stride=2, padding=1, bias=False),\n",
        "            nn.BatchNorm2d(ndf * 2),\n",
        "            nn.LeakyReLU(negative_slope=0.2, inplace=True),\n",
        "            # State size => (ndf * 2) x 128 x 72\n",
        "            nn.Conv2d(in_channels=ndf * 2, out_channels=ndf * 4, kernel_size=4, stride=2, padding=1, bias=False),\n",
        "            nn.BatchNorm2d(ndf * 4),\n",
        "            nn.LeakyReLU(negative_slope=0.2, inplace=True),\n",
        "            # State size => (ndf * 4) x 64 x 36\n",
        "            nn.Conv2d(in_channels=ndf * 4, out_channels=ndf * 8, kernel_size=4, stride=2, padding=1, bias=False),\n",
        "            nn.BatchNorm2d(ndf * 8),\n",
        "            nn.LeakyReLU(negative_slope=0.2, inplace=True),\n",
        "            # State size => (ndf * 8) x 32 x 18\n",
        "            nn.Conv2d(in_channels=ndf * 8, out_channels=ndf * 16, kernel_size=4, stride=2, padding=1, bias=False),\n",
        "            nn.BatchNorm2d(ndf * 16),\n",
        "            nn.LeakyReLU(negative_slope=0.2, inplace=True),\n",
        "            # State size => (ndf * 16) x 16 x 9\n",
        "            nn.Conv2d(in_channels=ndf * 16, out_channels=1, kernel_size=(16, 9), stride=2, bias=False),\n",
        "            nn.Sigmoid()\n",
        "        )\n",
        "\n",
        "    def forward(self, input):\n",
        "        return self.main(input)\n",
        "\n",
        "\n",
        "# Create discriminator(D) model instance.\n",
        "netD = Discriminator().to(device)\n",
        "netD.apply(weight_init)\n"
      ],
      "execution_count": null,
      "outputs": [
        {
          "output_type": "execute_result",
          "data": {
            "text/plain": [
              "Discriminator(\n",
              "  (main): Sequential(\n",
              "    (0): Conv2d(3, 64, kernel_size=(4, 4), stride=(2, 2), padding=(1, 1), bias=False)\n",
              "    (1): LeakyReLU(negative_slope=0.2, inplace=True)\n",
              "    (2): Conv2d(64, 128, kernel_size=(4, 4), stride=(2, 2), padding=(1, 1), bias=False)\n",
              "    (3): BatchNorm2d(128, eps=1e-05, momentum=0.1, affine=True, track_running_stats=True)\n",
              "    (4): LeakyReLU(negative_slope=0.2, inplace=True)\n",
              "    (5): Conv2d(128, 256, kernel_size=(4, 4), stride=(2, 2), padding=(1, 1), bias=False)\n",
              "    (6): BatchNorm2d(256, eps=1e-05, momentum=0.1, affine=True, track_running_stats=True)\n",
              "    (7): LeakyReLU(negative_slope=0.2, inplace=True)\n",
              "    (8): Conv2d(256, 512, kernel_size=(4, 4), stride=(2, 2), padding=(1, 1), bias=False)\n",
              "    (9): BatchNorm2d(512, eps=1e-05, momentum=0.1, affine=True, track_running_stats=True)\n",
              "    (10): LeakyReLU(negative_slope=0.2, inplace=True)\n",
              "    (11): Conv2d(512, 1024, kernel_size=(4, 4), stride=(2, 2), padding=(1, 1), bias=False)\n",
              "    (12): BatchNorm2d(1024, eps=1e-05, momentum=0.1, affine=True, track_running_stats=True)\n",
              "    (13): LeakyReLU(negative_slope=0.2, inplace=True)\n",
              "    (14): Conv2d(1024, 1, kernel_size=(16, 9), stride=(2, 2), bias=False)\n",
              "    (15): Sigmoid()\n",
              "  )\n",
              ")"
            ]
          },
          "metadata": {
            "tags": []
          },
          "execution_count": 14
        }
      ]
    },
    {
      "cell_type": "code",
      "metadata": {
        "id": "HRyDxG5INPRr",
        "colab_type": "code",
        "tags": [],
        "colab": {
          "base_uri": "https://localhost:8080/",
          "height": 1000
        },
        "outputId": "f903fb22-d213-4ca1-9d24-f4f06aa62069"
      },
      "source": [
        "# Enable parallel process over GPUs, if desired (When ngpu == 1, do not occur parallel execution, since there is only one GPU);\n",
        "if device.type == 'cuda' and ngpu >= 1:\n",
        "    netG = nn.DataParallel(netG, list(range(ngpu)))\n",
        "    netD = nn.DataParallel(netD, list(range(ngpu)))\n",
        "\n",
        "print(netG, netD, sep='\\n\\n')"
      ],
      "execution_count": null,
      "outputs": [
        {
          "output_type": "stream",
          "text": [
            "DataParallel(\n",
            "  (module): Generator(\n",
            "    (encode): Sequential(\n",
            "      (0): Conv2d(1, 64, kernel_size=(4, 4), stride=(2, 2), padding=(1, 1), bias=False)\n",
            "      (1): BatchNorm2d(64, eps=1e-05, momentum=0.1, affine=True, track_running_stats=True)\n",
            "      (2): ELU(alpha=1.0, inplace=True)\n",
            "      (3): Conv2d(64, 128, kernel_size=(4, 4), stride=(2, 2), padding=(1, 1), bias=False)\n",
            "      (4): BatchNorm2d(128, eps=1e-05, momentum=0.1, affine=True, track_running_stats=True)\n",
            "      (5): ELU(alpha=1.0, inplace=True)\n",
            "      (6): Conv2d(128, 256, kernel_size=(4, 4), stride=(2, 2), padding=(1, 1), bias=False)\n",
            "      (7): BatchNorm2d(256, eps=1e-05, momentum=0.1, affine=True, track_running_stats=True)\n",
            "      (8): ELU(alpha=1.0, inplace=True)\n",
            "      (9): Conv2d(256, 512, kernel_size=(4, 4), stride=(2, 2), padding=(1, 1), bias=False)\n",
            "      (10): BatchNorm2d(512, eps=1e-05, momentum=0.1, affine=True, track_running_stats=True)\n",
            "      (11): ELU(alpha=1.0, inplace=True)\n",
            "      (12): Conv2d(512, 1024, kernel_size=(4, 4), stride=(2, 2), padding=(1, 1), bias=False)\n",
            "      (13): BatchNorm2d(1024, eps=1e-05, momentum=0.1, affine=True, track_running_stats=True)\n",
            "      (14): ELU(alpha=1.0, inplace=True)\n",
            "    )\n",
            "    (decode): Sequential(\n",
            "      (0): ConvTranspose2d(1024, 512, kernel_size=(2, 2), stride=(2, 2), bias=False)\n",
            "      (1): BatchNorm2d(512, eps=1e-05, momentum=0.1, affine=True, track_running_stats=True)\n",
            "      (2): ReLU(inplace=True)\n",
            "      (3): ConvTranspose2d(512, 256, kernel_size=(2, 2), stride=(2, 2), bias=False)\n",
            "      (4): BatchNorm2d(256, eps=1e-05, momentum=0.1, affine=True, track_running_stats=True)\n",
            "      (5): ReLU(inplace=True)\n",
            "      (6): ConvTranspose2d(256, 128, kernel_size=(2, 2), stride=(2, 2), bias=False)\n",
            "      (7): BatchNorm2d(128, eps=1e-05, momentum=0.1, affine=True, track_running_stats=True)\n",
            "      (8): ReLU(inplace=True)\n",
            "      (9): ConvTranspose2d(128, 64, kernel_size=(2, 2), stride=(2, 2), bias=False)\n",
            "      (10): BatchNorm2d(64, eps=1e-05, momentum=0.1, affine=True, track_running_stats=True)\n",
            "      (11): ReLU(inplace=True)\n",
            "      (12): ConvTranspose2d(64, 64, kernel_size=(2, 2), stride=(2, 2), bias=False)\n",
            "      (13): BatchNorm2d(64, eps=1e-05, momentum=0.1, affine=True, track_running_stats=True)\n",
            "      (14): ReLU(inplace=True)\n",
            "      (15): ConvTranspose2d(64, 3, kernel_size=(1, 1), stride=(1, 1), bias=False)\n",
            "      (16): BatchNorm2d(3, eps=1e-05, momentum=0.1, affine=True, track_running_stats=True)\n",
            "      (17): Tanh()\n",
            "    )\n",
            "  )\n",
            ")\n",
            "\n",
            "DataParallel(\n",
            "  (module): Discriminator(\n",
            "    (main): Sequential(\n",
            "      (0): Conv2d(3, 64, kernel_size=(4, 4), stride=(2, 2), padding=(1, 1), bias=False)\n",
            "      (1): LeakyReLU(negative_slope=0.2, inplace=True)\n",
            "      (2): Conv2d(64, 128, kernel_size=(4, 4), stride=(2, 2), padding=(1, 1), bias=False)\n",
            "      (3): BatchNorm2d(128, eps=1e-05, momentum=0.1, affine=True, track_running_stats=True)\n",
            "      (4): LeakyReLU(negative_slope=0.2, inplace=True)\n",
            "      (5): Conv2d(128, 256, kernel_size=(4, 4), stride=(2, 2), padding=(1, 1), bias=False)\n",
            "      (6): BatchNorm2d(256, eps=1e-05, momentum=0.1, affine=True, track_running_stats=True)\n",
            "      (7): LeakyReLU(negative_slope=0.2, inplace=True)\n",
            "      (8): Conv2d(256, 512, kernel_size=(4, 4), stride=(2, 2), padding=(1, 1), bias=False)\n",
            "      (9): BatchNorm2d(512, eps=1e-05, momentum=0.1, affine=True, track_running_stats=True)\n",
            "      (10): LeakyReLU(negative_slope=0.2, inplace=True)\n",
            "      (11): Conv2d(512, 1024, kernel_size=(4, 4), stride=(2, 2), padding=(1, 1), bias=False)\n",
            "      (12): BatchNorm2d(1024, eps=1e-05, momentum=0.1, affine=True, track_running_stats=True)\n",
            "      (13): LeakyReLU(negative_slope=0.2, inplace=True)\n",
            "      (14): Conv2d(1024, 1, kernel_size=(16, 9), stride=(2, 2), bias=False)\n",
            "      (15): Sigmoid()\n",
            "    )\n",
            "  )\n",
            ")\n"
          ],
          "name": "stdout"
        }
      ]
    },
    {
      "cell_type": "markdown",
      "metadata": {
        "id": "_hLJ8E6EeyuL",
        "colab_type": "text"
      },
      "source": [
        "## Loss Function and Optimizers"
      ]
    },
    {
      "cell_type": "code",
      "metadata": {
        "id": "RKvDDAqVexVQ",
        "colab_type": "code",
        "colab": {}
      },
      "source": [
        "# Initializing \"Binary Cross Entropy\" loss function.\n",
        "criterion = nn.BCELoss().to(device)\n",
        "\n",
        "# Initializing \"Adam\" optimizers for both G and D networks.\n",
        "optimizerG = torch.optim.Adam(netG.parameters(), lr=lr, betas=(beta1, 0.999))\n",
        "optimizerD = torch.optim.Adam(netD.parameters(), lr=lr, betas=(beta1, 0.999))"
      ],
      "execution_count": null,
      "outputs": []
    },
    {
      "cell_type": "code",
      "metadata": {
        "id": "0VVpx85Yfvep",
        "colab_type": "code",
        "colab": {}
      },
      "source": [
        "# Establish convention for the real and fake images during training.\n",
        "real_labels = 1\n",
        "fake_labels = 0"
      ],
      "execution_count": null,
      "outputs": []
    },
    {
      "cell_type": "markdown",
      "metadata": {
        "id": "_xVAGOOfgnVq",
        "colab_type": "text"
      },
      "source": [
        "## Training"
      ]
    },
    {
      "cell_type": "code",
      "metadata": {
        "id": "st4m2DF6gf7C",
        "colab_type": "code",
        "tags": [],
        "colab": {
          "base_uri": "https://localhost:8080/",
          "height": 221
        },
        "outputId": "e0a43741-e6cf-4934-d2de-0a99822c717f"
      },
      "source": [
        "img_list = []\n",
        "G_losses = []\n",
        "D_losses = []\n",
        "\n",
        "iters = 0\n",
        "\n",
        "print(\"Starting training loop...\")\n",
        "\n",
        "start = time.time()\n",
        "\n",
        "for epoch in range(num_epochs):\n",
        "    epoch += 1\n",
        "\n",
        "    for batch, (lab_images, l_images) in enumerate(zip(lab_loader, l_loader), 0):\n",
        "        batch += 1\n",
        "\n",
        "        # ###################################################################\n",
        "        # Train the D network. Maximize the ability to classify real and fake \n",
        "        # images.\n",
        "        # ###################################################################\n",
        "\n",
        "        ############## Train with all real image batch ######################\n",
        "        netD.zero_grad()\n",
        "        # Create label batch to check the loss with real images.\n",
        "        lab_images.to(device)\n",
        "        l_images.to(device)\n",
        "\n",
        "        batch_size = lab_images.shape[0]\n",
        "        labels = torch.full(size=(batch_size, ), fill_value=real_labels, dtype=torch.float32, device=device)\n",
        "\n",
        "        # Feed forward real batch through D.\n",
        "        y = netD(lab_images).view(-1)\n",
        "        # Loss calculation on all real batch.\n",
        "        errD_real = criterion(y, labels)\n",
        "\n",
        "        # Calculate the gradient for the D in back-propagation.\n",
        "        errD_real.backward()\n",
        "        D_x = y.mean().item()\n",
        "\n",
        "        ############ Train with all grayscale image batch ###################\n",
        "\n",
        "        # Generate fake image batch with G.\n",
        "        fake = netG(l_images)\n",
        "        labels.fill_(fake_labels)\n",
        "\n",
        "        # Classify all fake image images with D. 'detach()' the 'fake' to avoid leaking G gradient to D.\n",
        "        y = netD(fake.detach()).view(-1)\n",
        "\n",
        "        # Calculate D loss for all fake images.\n",
        "        errD_fake = criterion(y, labels)\n",
        "\n",
        "        # Calculate the the gradient for fake batch in back-propagation.\n",
        "        errD_fake.backward()\n",
        "        D_G_z1 = y.mean().item()\n",
        "\n",
        "        # Calculate total gradient to real and fake images for D.\n",
        "        errD = errD_real + errD_fake\n",
        "\n",
        "        # Update D.\n",
        "        optimizerD.step()\n",
        "\n",
        "        # ###################################################################\n",
        "        # Train the G network. Minimize the ability of creating fake images.\n",
        "        # ###################################################################\n",
        "\n",
        "        netG.zero_grad()\n",
        "\n",
        "        labels.fill_(real_labels) # Fake images are real of G's perspective.\n",
        "\n",
        "        # Since we just updated the D, feed forward the batch of fake images \n",
        "        # without 'detach()' the gradient from the G. So, we could literally \n",
        "        # discriminate the G's previous output.\n",
        "        y = netD(fake).view(-1)\n",
        "\n",
        "        # Calculate G's loss base off this output.\n",
        "        errG = criterion(y, labels)\n",
        "\n",
        "        # Calculate gradient for the G.\n",
        "        errG.backward()\n",
        "        D_G_z2 = errG.mean().item()\n",
        "\n",
        "        # Update generator.\n",
        "        optimizerG.step()\n",
        "\n",
        "        # OUTPUT TRAINING STATS.\n",
        "        if batch == 1 or batch % 100 == 0:\n",
        "            print(\"[{}/{}] [{}/{}]\\tLoss_D: {:.4f}\\tLoss_G: {:.4f}\\tD(x): {:.4f}\\tD(G(z)): {:.4f}/{:.4f}\"\n",
        "                .format(epoch, num_epochs, batch, len(lab_loader), errD, errG, D_x, D_G_z1, D_G_z2))\n",
        "            \n",
        "        D_losses.append(errD)\n",
        "        G_losses.append(errG)\n",
        "\n",
        "        # Check how the G is doing by saving the G's output on fixed noise.\n",
        "        if iters % 500 == 0 or ((epoch == num_epochs) and (batch == len(l_loader))):\n",
        "            with torch.no_grad():\n",
        "                fake = netG(l_images).detach().cpu()\n",
        "            \n",
        "            img_list.append(make_grid(fake, nrow=10, normalize=True))\n",
        "\n",
        "        iters += 1\n",
        "\n",
        "\n",
        "duration = time.time() - start\n",
        "print(f\"Execution Duration: {duration / 60:0.4f} minutes\")"
      ],
      "execution_count": null,
      "outputs": [
        {
          "output_type": "stream",
          "text": [
            "Starting training loop...\n",
            "[1/10] [1/2000]\tLoss_D: 81.4862\tLoss_G: 33.2267\tD(x): 0.4998\tD(G(z)): 0.5997/33.2267\n",
            "[1/10] [100/2000]\tLoss_D: 30.0000\tLoss_G: 67.1285\tD(x): 1.0000\tD(G(z)): 0.3000/67.1285\n",
            "[1/10] [200/2000]\tLoss_D: 37.0680\tLoss_G: 58.8959\tD(x): 0.9000\tD(G(z)): 0.3995/58.8959\n",
            "[1/10] [300/2000]\tLoss_D: 30.0000\tLoss_G: 70.0000\tD(x): 1.0000\tD(G(z)): 0.3000/70.0000\n",
            "[1/10] [400/2000]\tLoss_D: 0.0000\tLoss_G: 100.0000\tD(x): 1.0000\tD(G(z)): 0.0000/100.0000\n",
            "[1/10] [500/2000]\tLoss_D: 0.0005\tLoss_G: 100.0000\tD(x): 0.9995\tD(G(z)): 0.0000/100.0000\n",
            "[1/10] [600/2000]\tLoss_D: 0.0000\tLoss_G: 93.4601\tD(x): 1.0000\tD(G(z)): 0.0000/93.4601\n",
            "[1/10] [700/2000]\tLoss_D: 0.0000\tLoss_G: 100.0000\tD(x): 1.0000\tD(G(z)): 0.0000/100.0000\n",
            "[1/10] [800/2000]\tLoss_D: 0.0000\tLoss_G: 100.0000\tD(x): 1.0000\tD(G(z)): 0.0000/100.0000\n",
            "[1/10] [900/2000]\tLoss_D: 4.6111\tLoss_G: 97.3947\tD(x): 0.9000\tD(G(z)): 0.0000/97.3947\n",
            "[1/10] [1000/2000]\tLoss_D: 0.0808\tLoss_G: 100.0000\tD(x): 1.0000\tD(G(z)): 0.0554/100.0000\n",
            "[1/10] [1100/2000]\tLoss_D: 2.0754\tLoss_G: 100.0000\tD(x): 0.9000\tD(G(z)): 0.0000/100.0000\n",
            "[1/10] [1200/2000]\tLoss_D: 0.0000\tLoss_G: 100.0000\tD(x): 1.0000\tD(G(z)): 0.0000/100.0000\n",
            "[1/10] [1300/2000]\tLoss_D: 20.0000\tLoss_G: 80.0000\tD(x): 1.0000\tD(G(z)): 0.2000/80.0000\n",
            "[1/10] [1400/2000]\tLoss_D: 0.0000\tLoss_G: 100.0000\tD(x): 1.0000\tD(G(z)): 0.0000/100.0000\n",
            "[1/10] [1500/2000]\tLoss_D: 0.0000\tLoss_G: 100.0000\tD(x): 1.0000\tD(G(z)): 0.0000/100.0000\n",
            "[1/10] [1600/2000]\tLoss_D: 0.0000\tLoss_G: 100.0000\tD(x): 1.0000\tD(G(z)): 0.0000/100.0000\n",
            "[1/10] [1700/2000]\tLoss_D: 0.0000\tLoss_G: 100.0000\tD(x): 1.0000\tD(G(z)): 0.0000/100.0000\n"
          ],
          "name": "stdout"
        },
        {
          "output_type": "error",
          "ename": "KeyboardInterrupt",
          "evalue": "",
          "traceback": [
            "\u001b[1;31m---------------------------------------------------------------------------\u001b[0m",
            "\u001b[1;31mKeyboardInterrupt\u001b[0m                         Traceback (most recent call last)",
            "\u001b[1;32m<ipython-input-17-11bbda7eb3c9>\u001b[0m in \u001b[0;36m<module>\u001b[1;34m\u001b[0m\n\u001b[0;32m     78\u001b[0m         \u001b[1;31m# Calculate gradient for the G.\u001b[0m\u001b[1;33m\u001b[0m\u001b[1;33m\u001b[0m\u001b[1;33m\u001b[0m\u001b[0m\n\u001b[0;32m     79\u001b[0m         \u001b[0merrG\u001b[0m\u001b[1;33m.\u001b[0m\u001b[0mbackward\u001b[0m\u001b[1;33m(\u001b[0m\u001b[1;33m)\u001b[0m\u001b[1;33m\u001b[0m\u001b[1;33m\u001b[0m\u001b[0m\n\u001b[1;32m---> 80\u001b[1;33m         \u001b[0mD_G_z2\u001b[0m \u001b[1;33m=\u001b[0m \u001b[0merrG\u001b[0m\u001b[1;33m.\u001b[0m\u001b[0mmean\u001b[0m\u001b[1;33m(\u001b[0m\u001b[1;33m)\u001b[0m\u001b[1;33m.\u001b[0m\u001b[0mitem\u001b[0m\u001b[1;33m(\u001b[0m\u001b[1;33m)\u001b[0m\u001b[1;33m\u001b[0m\u001b[1;33m\u001b[0m\u001b[0m\n\u001b[0m\u001b[0;32m     81\u001b[0m \u001b[1;33m\u001b[0m\u001b[0m\n\u001b[0;32m     82\u001b[0m         \u001b[1;31m# Update generator.\u001b[0m\u001b[1;33m\u001b[0m\u001b[1;33m\u001b[0m\u001b[1;33m\u001b[0m\u001b[0m\n",
            "\u001b[1;31mKeyboardInterrupt\u001b[0m: "
          ]
        }
      ]
    },
    {
      "cell_type": "code",
      "metadata": {
        "id": "ecdwPmsbp4Dc",
        "colab_type": "code",
        "colab": {},
        "outputId": "caf2d45b-569f-45ce-e823-98530178d968"
      },
      "source": [
        "plt.figure(figsize=(10, 9))\n",
        "plt.title('GENERATOR(G) AND DISCRIMINATOR(D) LOSS OVER THE EPOCHS')\n",
        "plt.plot(D_losses, label='Discriminator')\n",
        "plt.plot(G_losses, label='Generator')\n",
        "plt.legend()\n",
        "plt.xlabel('Epoch')\n",
        "plt.ylabel('Loss')\n",
        "plt.show()"
      ],
      "execution_count": null,
      "outputs": [
        {
          "output_type": "display_data",
          "data": {
            "text/plain": [
              "<Figure size 720x648 with 1 Axes>"
            ],
            "image/png": "[encoded data removed]"
          },
          "metadata": {
            "tags": [],
            "needs_background": "light"
          }
        }
      ]
    },
    {
      "cell_type": "code",
      "metadata": {
        "id": "3KbREkZG0QBB",
        "colab_type": "code",
        "colab": {}
      },
      "source": [
        "def lab_to_rgb(im):\n",
        "\n",
        "    if str(type(im)).find('torch') != -1:\n",
        "        im = im.numpy() * 255\n",
        "\n",
        "    if len(im.shape) == 3 and im.shape[2] > 3:\n",
        "        im = np.transpose(im, (1, 2, 0)).astype(np.uint8)\n",
        "\n",
        "    return cv2.cvtColor(im, code=cv2.COLOR_LAB2RGB)"
      ],
      "execution_count": null,
      "outputs": []
    },
    {
      "cell_type": "code",
      "metadata": {
        "id": "TS80vHmz2Yt_",
        "colab_type": "code",
        "colab": {
          "base_uri": "https://localhost:8080/",
          "height": 286
        },
        "outputId": "4b005b95-6609-46f0-cfa5-9e7955b76fa2"
      },
      "source": [
        "color = lab_to_rgb(im_gray)\n",
        "\n",
        "plt.imshow(color)"
      ],
      "execution_count": null,
      "outputs": [
        {
          "output_type": "execute_result",
          "data": {
            "text/plain": [
              "<matplotlib.image.AxesImage at 0x19658446400>"
            ]
          },
          "metadata": {
            "tags": []
          },
          "execution_count": 20
        },
        {
          "output_type": "display_data",
          "data": {
            "text/plain": [
              "<Figure size 432x288 with 1 Axes>"
            ],
            "image/png": "[encoded data removed]"
          },
          "metadata": {
            "tags": [],
            "needs_background": "light"
          }
        }
      ]
    },
    {
      "cell_type": "code",
      "metadata": {
        "id": "niKgEC0-j5n7",
        "colab_type": "code",
        "colab": {}
      },
      "source": [
        ""
      ],
      "execution_count": null,
      "outputs": []
    }
  ]
}