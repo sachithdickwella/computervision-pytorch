{
  "nbformat": 4,
  "nbformat_minor": 0,
  "metadata": {
    "orig_nbformat": 2,
    "colab": {
      "name": "dcgan.ipynb",
      "provenance": []
    },
    "kernelspec": {
      "name": "python3",
      "display_name": "Python 3"
    },
    "accelerator": "GPU"
  },
  "cells": [
    {
      "cell_type": "code",
      "metadata": {
        "id": "hn82FjXowPjr",
        "colab_type": "code",
        "colab": {}
      },
      "source": [
        "import torch\n",
        "import torch.nn as nn\n",
        "import torch.nn.functional as F\n",
        "import torch.nn.parallel as parallel\n",
        "import torch.backends.cudnn as cudnn\n",
        "import torch.optim as optim\n",
        "\n",
        "import numpy as np\n",
        "import matplotlib.pyplot as plt\n",
        "import matplotlib.animation as anim\n",
        "import os\n",
        "import random\n",
        "import argparse\n",
        "\n",
        "from torch.utils.data import DataLoader\n",
        "from torchvision import datasets as dset, transforms as T\n",
        "from torchvision.utils import make_grid\n",
        "from IPython.display import HTML"
      ],
      "execution_count": 4,
      "outputs": []
    },
    {
      "cell_type": "code",
      "metadata": {
        "id": "nE-n1WhpwPjw",
        "colab_type": "code",
        "colab": {
          "base_uri": "https://localhost:8080/",
          "height": 34
        },
        "outputId": "adaa39aa-c458-49e8-b9eb-3247d60fab65"
      },
      "source": [
        "MANUAL_SEED = 101\n",
        "\n",
        "random.seed(MANUAL_SEED)\n",
        "torch.manual_seed(MANUAL_SEED)\n",
        "\n",
        "print(f'Random seem: {MANUAL_SEED}')"
      ],
      "execution_count": 5,
      "outputs": [
        {
          "output_type": "stream",
          "text": [
            "Random seem: 101\n"
          ],
          "name": "stdout"
        }
      ]
    },
    {
      "cell_type": "code",
      "metadata": {
        "id": "P0lgWE7PUXKS",
        "colab_type": "code",
        "colab": {}
      },
      "source": [
        "dataroot = \"data/celeba\"    # the path to the root of the dataset folder.\n",
        "workers = 2                 # the number of worker threads for loading the data with the DataLoader.\n",
        "batch_size = 128            # the batch size used in training. The DCGAN paper uses a batch size of 128 (https://papers.nips.cc/paper/5423-generative-adversarial-nets.pdf).\n",
        "image_size = 64             # the spatial size of the images used for training. This implementation defaults to 64x64. If another size is desired, the structures of D and G must be changed.\n",
        "nc = 3                      # number of color channels in the input images. For color images this is 3.\n",
        "lz = 100                    # length of latent vector.\n",
        "ngf = 64                    # relates to the depth of feature maps carried through the generator.\n",
        "ndf = 64                    # sets the depth of feature maps propagated through the discriminator.\n",
        "num_epochs = 10             # number of training epochs to run. Training for longer will probably lead to better results but will also take much longer.\n",
        "lr = 0.0002                 # learning rate for training. As described in the DCGAN paper, this number should be 0.0002\n",
        "beta1 = 0.5                 # beta1 hyperparameter for Adam optimizers. As described in paper, this number should be 0.5.\n",
        "ngpu = 1                    # number of GPUs available. If this is 0, code will run in CPU mode. If this number is greater than 0 it will run on that number of GPUs."
      ],
      "execution_count": 6,
      "outputs": []
    },
    {
      "cell_type": "code",
      "metadata": {
        "id": "jW52ALC7XhyF",
        "colab_type": "code",
        "colab": {}
      },
      "source": [
        ""
      ],
      "execution_count": 8,
      "outputs": []
    }
  ]
}