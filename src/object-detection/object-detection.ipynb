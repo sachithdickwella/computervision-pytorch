{
 "cells": [
  {
   "cell_type": "code",
   "execution_count": 1,
   "metadata": {
    "collapsed": true
   },
   "outputs": [],
   "source": [
    "import os\n",
    "import numpy as np\n",
    "import torch\n",
    "import torch.nn as nn\n",
    "from torch.utils.data import Dataset\n",
    "from PIL import Image"
   ]
  },
  {
   "cell_type": "code",
   "execution_count": null,
   "outputs": [],
   "source": [
    "class PennFudanDataset(Dataset):\n",
    "\n",
    "    def __init__(self, root, images_path, masks_path, transforms):\n",
    "        super().__init__()\n",
    "        self.images_path = os.path.join(root, images_path)\n",
    "        self.masks_path = os.path.join(root, masks_path)\n",
    "        self.transforms = transforms\n",
    "        # Load all the images and sort them to make\n",
    "        # sure they are aligned.\n",
    "        self.images = list(sorted(os.listdir(self.images_path)))\n",
    "        self.masks = list(sorted(os.listdir(self.masks_path)))\n",
    "\n",
    "    def __getitem__(self, idx):\n",
    "        # Load image add mask.\n",
    "        image_path = os.path.join(self.images_path, self.images[idx])\n",
    "        image = Image.open(image_path).convert('RGB')\n",
    "\n",
    "        mask_path = os.path.join(self.masks_path, self.masks[idx])\n",
    "        # note that we haven't converted the mask to RGB,\n",
    "        # because each color corresponds to a different instance\n",
    "        # with 0 being background\n",
    "        mask = Image.open(mask_path)\n",
    "        # Convert PIL image into numpy array.\n",
    "        mask = np.array(mask)\n",
    "        # Instances are encoded as different colors.\n",
    "        obj_ids = np.unique(mask)\n",
    "        # First id is background, so remove it.\n",
    "        obj_ids = obj_ids[1:]\n",
    "\n",
    "        # split the color-encoded mask into a set\n",
    "        # of binary masks\n",
    "        masks = mask == obj_ids[:, None, None]"
   ],
   "metadata": {
    "collapsed": false,
    "pycharm": {
     "name": "#%%\n"
    }
   }
  },
  {
   "cell_type": "code",
   "execution_count": 29,
   "outputs": [
    {
     "data": {
      "text/plain": "array([[[ True,  True,  True,  True,  True,  True,  True,  True,  True,\n          True],\n        [ True,  True,  True,  True,  True,  True,  True,  True,  True,\n          True],\n        [ True,  True,  True,  True,  True,  True,  True,  True,  True,\n          True],\n        [ True,  True,  True, False, False, False, False,  True,  True,\n          True],\n        [ True,  True,  True, False, False, False, False,  True,  True,\n          True],\n        [ True,  True,  True, False, False, False, False,  True,  True,\n          True],\n        [ True,  True,  True, False, False, False, False,  True,  True,\n          True],\n        [ True,  True,  True,  True,  True,  True,  True,  True,  True,\n          True],\n        [ True,  True,  True,  True,  True,  True,  True,  True,  True,\n          True],\n        [ True,  True,  True,  True,  True,  True,  True,  True,  True,\n          True]],\n\n       [[False, False, False, False, False, False, False, False, False,\n         False],\n        [False, False, False, False, False, False, False, False, False,\n         False],\n        [False, False, False, False, False, False, False, False, False,\n         False],\n        [False, False, False,  True,  True,  True,  True, False, False,\n         False],\n        [False, False, False,  True,  True,  True,  True, False, False,\n         False],\n        [False, False, False,  True,  True,  True,  True, False, False,\n         False],\n        [False, False, False,  True,  True,  True,  True, False, False,\n         False],\n        [False, False, False, False, False, False, False, False, False,\n         False],\n        [False, False, False, False, False, False, False, False, False,\n         False],\n        [False, False, False, False, False, False, False, False, False,\n         False]]])"
     },
     "execution_count": 29,
     "metadata": {},
     "output_type": "execute_result"
    }
   ],
   "source": [
    "x = np.ones((10, 10), dtype=np.uint8)\n",
    "x[3:7, 3:7] *= 2\n",
    "# x[0, :] = x[:, 0] = x[9, :] = x[:, 9] = 0\n",
    "\n",
    "unique = np.unique(x)\n",
    "masks = x == unique[:, None, None]\n",
    "masks\n"
   ],
   "metadata": {
    "collapsed": false,
    "pycharm": {
     "name": "#%%\n"
    }
   }
  }
 ],
 "metadata": {
  "kernelspec": {
   "name": "pycharm-d6fa7573",
   "language": "python",
   "display_name": "PyCharm (computervision-pytorch)"
  },
  "language_info": {
   "codemirror_mode": {
    "name": "ipython",
    "version": 2
   },
   "file_extension": ".py",
   "mimetype": "text/x-python",
   "name": "python",
   "nbconvert_exporter": "python",
   "pygments_lexer": "ipython2",
   "version": "2.7.6"
  }
 },
 "nbformat": 4,
 "nbformat_minor": 0
}